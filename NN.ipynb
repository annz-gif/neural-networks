{
 "cells": [
  {
   "cell_type": "code",
   "execution_count": 16,
   "id": "c1592af7",
   "metadata": {},
   "outputs": [],
   "source": [
    "import numpy as np"
   ]
  },
  {
   "cell_type": "code",
   "execution_count": 17,
   "id": "06d54c19",
   "metadata": {},
   "outputs": [
    {
     "data": {
      "text/plain": [
       "array([[0, 0],\n",
       "       [0, 1],\n",
       "       [1, 1],\n",
       "       [1, 0]])"
      ]
     },
     "execution_count": 17,
     "metadata": {},
     "output_type": "execute_result"
    }
   ],
   "source": [
    "input_value = np.array([[0,0] , [0,1] , [1,1],[1,0]])\n",
    "input_value.shape\n",
    "input_value"
   ]
  },
  {
   "cell_type": "markdown",
   "id": "37b9bf43",
   "metadata": {},
   "source": [
    "# assigning output values"
   ]
  },
  {
   "cell_type": "code",
   "execution_count": 18,
   "id": "f7efbb34",
   "metadata": {},
   "outputs": [
    {
     "data": {
      "text/plain": [
       "(4, 1)"
      ]
     },
     "execution_count": 18,
     "metadata": {},
     "output_type": "execute_result"
    }
   ],
   "source": [
    "output = np.array([0,1,1,0])\n",
    "output = output.reshape(4,1)\n",
    "output.shape"
   ]
  },
  {
   "cell_type": "markdown",
   "id": "206b1eb5",
   "metadata": {},
   "source": [
    "# weights"
   ]
  },
  {
   "cell_type": "code",
   "execution_count": 19,
   "id": "6206f285",
   "metadata": {},
   "outputs": [
    {
     "data": {
      "text/plain": [
       "array([[0.1],\n",
       "       [0.2]])"
      ]
     },
     "execution_count": 19,
     "metadata": {},
     "output_type": "execute_result"
    }
   ],
   "source": [
    "weights = np.array([[0.1],[0.2]])\n",
    "weights"
   ]
  },
  {
   "cell_type": "code",
   "execution_count": 20,
   "id": "530e1e1f",
   "metadata": {},
   "outputs": [],
   "source": [
    "bias = 0.3"
   ]
  },
  {
   "cell_type": "markdown",
   "id": "6cfa35a4",
   "metadata": {},
   "source": [
    "# activation function"
   ]
  },
  {
   "cell_type": "code",
   "execution_count": 21,
   "id": "23a8e4c7",
   "metadata": {},
   "outputs": [],
   "source": [
    "def sigmoid_func(x):\n",
    "    return 1/(1+np.exp(-x))"
   ]
  },
  {
   "cell_type": "raw",
   "id": "6949e1a7",
   "metadata": {},
   "source": [
    "#derivative of sigmoid function "
   ]
  },
  {
   "cell_type": "code",
   "execution_count": 26,
   "id": "d69a94e1",
   "metadata": {},
   "outputs": [],
   "source": [
    "def der(x):\n",
    "    return sigmoid_func(x) * (1- sigmoid_func(x))"
   ]
  },
  {
   "cell_type": "markdown",
   "id": "05e3b500",
   "metadata": {},
   "source": [
    "# update the weights"
   ]
  },
  {
   "cell_type": "code",
   "execution_count": 11,
   "id": "e3cb15dc",
   "metadata": {},
   "outputs": [],
   "source": [
    "pp=np.dot(input_arr,weights)"
   ]
  },
  {
   "cell_type": "code",
   "execution_count": 12,
   "id": "7df0d584",
   "metadata": {},
   "outputs": [
    {
     "data": {
      "text/plain": [
       "array([[0. ],\n",
       "       [0.2],\n",
       "       [0.3],\n",
       "       [0.1]])"
      ]
     },
     "execution_count": 12,
     "metadata": {},
     "output_type": "execute_result"
    }
   ],
   "source": [
    "pp"
   ]
  },
  {
   "cell_type": "code",
   "execution_count": 13,
   "id": "af2d3287",
   "metadata": {},
   "outputs": [],
   "source": [
    "p1=pp+bias"
   ]
  },
  {
   "cell_type": "code",
   "execution_count": 14,
   "id": "4ae5d4f9",
   "metadata": {},
   "outputs": [
    {
     "data": {
      "text/plain": [
       "array([[0.3],\n",
       "       [0.5],\n",
       "       [0.6],\n",
       "       [0.4]])"
      ]
     },
     "execution_count": 14,
     "metadata": {},
     "output_type": "execute_result"
    }
   ],
   "source": [
    "p1"
   ]
  },
  {
   "cell_type": "code",
   "execution_count": 23,
   "id": "687c3b5e",
   "metadata": {},
   "outputs": [
    {
     "data": {
      "text/plain": [
       "array([[0.3],\n",
       "       [0.5],\n",
       "       [0.6],\n",
       "       [0.4]])"
      ]
     },
     "execution_count": 23,
     "metadata": {},
     "output_type": "execute_result"
    }
   ],
   "source": [
    "weighted_sum"
   ]
  },
  {
   "cell_type": "code",
   "execution_count": 24,
   "id": "0ffc1e26",
   "metadata": {},
   "outputs": [
    {
     "data": {
      "text/plain": [
       "array([[0.57444252],\n",
       "       [0.62245933],\n",
       "       [0.64565631],\n",
       "       [0.59868766]])"
      ]
     },
     "execution_count": 24,
     "metadata": {},
     "output_type": "execute_result"
    }
   ],
   "source": [
    "sigmoid_func(weighted_sum)"
   ]
  },
  {
   "cell_type": "code",
   "execution_count": 25,
   "id": "cfeb87aa",
   "metadata": {},
   "outputs": [],
   "source": [
    "error = first_output - output"
   ]
  },
  {
   "cell_type": "code",
   "execution_count": null,
   "id": "d2bdcc20",
   "metadata": {},
   "outputs": [],
   "source": []
  },
  {
   "cell_type": "code",
   "execution_count": 27,
   "id": "b2742f70",
   "metadata": {},
   "outputs": [
    {
     "name": "stdout",
     "output_type": "stream",
     "text": [
      "[[-0.41953547]\n",
      " [ 8.98887811]]\n",
      "[-4.19706344]\n"
     ]
    }
   ],
   "source": [
    "for epochs in range(10000):\n",
    "    input_arr = input_value\n",
    "    dot = np.dot(input_arr,weights)\n",
    "    weighted_sum = dot + bias\n",
    "    first_output = sigmoid_func(weighted_sum)\n",
    "    error = first_output - output\n",
    "    total_error = np.square(np.subtract(first_output,output)).mean()\n",
    "    first_der=error\n",
    "    second_der = der(first_output)\n",
    "    derivative = first_der * second_der\n",
    "    t_input = input_value.T\n",
    "    final_derivative = np.dot(t_input,derivative)\n",
    "    weights = weights - 0.05 * final_derivative\n",
    "    for i in derivative:\n",
    "        bias = bias - 0.05 * i\n",
    "    \n",
    "print(weights)\n",
    "print(bias)\n"
   ]
  },
  {
   "cell_type": "code",
   "execution_count": 28,
   "id": "c44a45fc",
   "metadata": {},
   "outputs": [
    {
     "name": "stdout",
     "output_type": "stream",
     "text": [
      "[0.99177089]\n"
     ]
    }
   ],
   "source": [
    "pred = np.array([0,1])\n",
    "result = np.dot(pred,weights) + bias\n",
    "res = sigmoid_func(result)\n",
    "print(res)\n",
    "    "
   ]
  },
  {
   "cell_type": "code",
   "execution_count": 29,
   "id": "7274a1c1",
   "metadata": {},
   "outputs": [
    {
     "name": "stdout",
     "output_type": "stream",
     "text": [
      "[[0.01481834]\n",
      " [0.99177007]\n",
      " [0.98753364]\n",
      " [0.00979057]]\n"
     ]
    }
   ],
   "source": [
    "first_output = sigmoid_func(weighted_sum)\n",
    "print(first_output)"
   ]
  },
  {
   "cell_type": "code",
   "execution_count": null,
   "id": "699004c1",
   "metadata": {},
   "outputs": [],
   "source": []
  }
 ],
 "metadata": {
  "kernelspec": {
   "display_name": "Python 3 (ipykernel)",
   "language": "python",
   "name": "python3"
  },
  "language_info": {
   "codemirror_mode": {
    "name": "ipython",
    "version": 3
   },
   "file_extension": ".py",
   "mimetype": "text/x-python",
   "name": "python",
   "nbconvert_exporter": "python",
   "pygments_lexer": "ipython3",
   "version": "3.11.4"
  }
 },
 "nbformat": 4,
 "nbformat_minor": 5
}
